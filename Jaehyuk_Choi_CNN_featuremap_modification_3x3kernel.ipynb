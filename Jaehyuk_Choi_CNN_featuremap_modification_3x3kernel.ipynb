{
  "nbformat": 4,
  "nbformat_minor": 0,
  "metadata": {
    "colab": {
      "name": "Jaehyuk_Choi_CNN_featuremap_modification_3x3kernel.ipynb",
      "provenance": [],
      "collapsed_sections": []
    },
    "kernelspec": {
      "name": "python2",
      "display_name": "Python 2"
    }
  },
  "cells": [
    {
      "cell_type": "code",
      "metadata": {
        "id": "dfr611vvDNrr",
        "colab_type": "code",
        "colab": {}
      },
      "source": [
        ""
      ],
      "execution_count": 0,
      "outputs": []
    },
    {
      "cell_type": "code",
      "metadata": {
        "id": "CFrnzTBEDaYF",
        "colab_type": "code",
        "colab": {}
      },
      "source": [
        "import numpy as np\n",
        "import pandas as pd\n",
        "import keras\n",
        "from keras.datasets import mnist\n",
        "from keras.models import Sequential\n",
        "from keras.layers import Dense, Dropout, Flatten\n",
        "from keras.layers import Conv2D, MaxPooling2D\n",
        "from keras import backend as K\n",
        "import matplotlib.pyplot as plt\n"
      ],
      "execution_count": 0,
      "outputs": []
    },
    {
      "cell_type": "code",
      "metadata": {
        "id": "fJg-EQGQDnSS",
        "colab_type": "code",
        "outputId": "0c1f266a-2998-4c9a-aa3c-4e69fd92a999",
        "colab": {
          "base_uri": "https://localhost:8080/",
          "height": 68
        }
      },
      "source": [
        "batch_size = 128                      # The size of each batch is 128.\n",
        "num_classes = 10                      # The number of classes 10 as from 0 to 9.\n",
        "epochs = 12                           # 12 epochs are used for efficiency. \n",
        "\n",
        "# input image dimensions 28 x 28 pixel. \n",
        "img_rows, img_cols = 28, 28\n",
        "\n",
        "# the data, split between train and test sets.\n",
        "(x_train, y_train), (x_test, y_test) = mnist.load_data()\n",
        "\n",
        "if K.image_data_format() == 'channels_first':   # data reshaping at the first channel.\n",
        "    x_train = x_train.reshape(x_train.shape[0], 1, img_rows, img_cols)\n",
        "    x_test = x_test.reshape(x_test.shape[0], 1, img_rows, img_cols)\n",
        "    input_shape = (1, img_rows, img_cols)\n",
        "else:                                           # data reshaping at the other channels.\n",
        "    x_train = x_train.reshape(x_train.shape[0], img_rows, img_cols, 1)\n",
        "    x_test = x_test.reshape(x_test.shape[0], img_rows, img_cols, 1)\n",
        "    input_shape = (img_rows, img_cols, 1)\n",
        "# converts from integer to float.\n",
        "x_train = x_train.astype('float32')\n",
        "x_test = x_test.astype('float32')\n",
        "# normalizes the pixel values of a gray-scale image.\n",
        "x_train /= 255\n",
        "x_test /= 255\n",
        "# prints the number of train / test samples. \n",
        "print('x_train shape:', x_train.shape)\n",
        "print(x_train.shape[0], 'train samples')\n",
        "print(x_test.shape[0], 'test samples')\n"
      ],
      "execution_count": 12,
      "outputs": [
        {
          "output_type": "stream",
          "text": [
            "('x_train shape:', (60000, 28, 28, 1))\n",
            "(60000, 'train samples')\n",
            "(10000, 'test samples')\n"
          ],
          "name": "stdout"
        }
      ]
    },
    {
      "cell_type": "code",
      "metadata": {
        "id": "J37bgqG0Dx4Z",
        "colab_type": "code",
        "outputId": "c8fbbdd1-b429-4796-f279-df04702d8ff7",
        "colab": {
          "base_uri": "https://localhost:8080/",
          "height": 165
        }
      },
      "source": [
        "# prints the samples of handwritten digit images. \n",
        "plt.figure(figsize=(10,2))\n",
        "for i in range(5):\n",
        "    plt.subplot(1,5,i+1)\n",
        "    plt.xticks([])\n",
        "    plt.yticks([])\n",
        "    plt.grid(False)\n",
        "    plt.imshow(x_train[i].reshape(28, 28), cmap=plt.cm.binary)\n",
        "    plt.xlabel(y_train[i])\n",
        "    "
      ],
      "execution_count": 13,
      "outputs": [
        {
          "output_type": "display_data",
          "data": {
            "image/png": "[encoded data removed]",
            "text/plain": [
              "<Figure size 720x144 with 5 Axes>"
            ]
          },
          "metadata": {
            "tags": []
          }
        }
      ]
    },
    {
      "cell_type": "code",
      "metadata": {
        "id": "PrG5ZG9oQL6H",
        "colab_type": "code",
        "outputId": "6a4b4fcb-10fe-4bab-ecfe-f58dca582df4",
        "colab": {
          "base_uri": "https://localhost:8080/",
          "height": 496
        }
      },
      "source": [
        "\n",
        "# converts class vectors to binary class matrices.\n",
        "y_train = keras.utils.to_categorical(y_train, num_classes)\n",
        "y_test = keras.utils.to_categorical(y_test, num_classes)\n",
        "\n",
        "model = Sequential()\n",
        "\n",
        "# 1st convolutional layer with 40 feature maps, 3 x 3 kernels, stride 1, and \n",
        "# activation function of ReLU. \n",
        "# NOTE: number of feature maps will provide number of features in higher dimensions. \n",
        "# like features of a sharp shape, a curve shape, or an edge shape in an image.\n",
        "model.add(Conv2D(40, kernel_size=(3, 3),\n",
        "                 activation='relu',\n",
        "                 input_shape=input_shape))\n",
        "\n",
        "# max pooling 2 x 2 with stride 1\n",
        "model.add(MaxPooling2D(pool_size=(2, 2)))\n",
        "\n",
        "# 2nd conv layer with 80 feature maps, 3 x 3 kernels, stride 1, and activation \n",
        "# function of ReLU.\n",
        "model.add(Conv2D(80, (3, 3), activation='relu'))\n",
        "\n",
        "# max pooling 2 x 2 with stride 1\n",
        "model.add(MaxPooling2D(pool_size=(2, 2)))\n",
        "\n",
        "# flattening is required to pass the feature maps through fully connected layers. \n",
        "model.add(Flatten())\n",
        "\n",
        "# fully connected layer with 120 nodes and ReLU activation function.\n",
        "model.add(Dense(120, activation='relu'))\n",
        "\n",
        "# fully connected layer with 84 nodes and ReLU activation function.\n",
        "model.add(Dense(84, activation='relu'))\n",
        "\n",
        "# Output layer with softmax activation function.\n",
        "model.add(Dense(num_classes, activation='softmax'))\n",
        "\n",
        "# https://keras.io/optimizers/ \n",
        "# Adadelta optimizer is more robust than Adagrad that adapts learning rates based \n",
        "# on a moving window of gradient updates, instead of accumulating all past gradients. \n",
        "model.compile(loss=keras.losses.categorical_crossentropy,\n",
        "              optimizer=keras.optimizers.Adadelta(lr=0.1, rho=0.95, epsilon=None, decay=0.0),\n",
        "              metrics=['accuracy'])\n",
        "\n",
        "# trains training data and stores the values of the accruacies and losses (errors) \n",
        "# of train / test data for each epoch. \n",
        "history = model.fit(x_train, y_train,\n",
        "          batch_size=batch_size,\n",
        "          epochs=epochs,\n",
        "          verbose=1,\n",
        "          validation_data=(x_test, y_test))\n",
        "\n",
        "# calculates the final loss and the final accuracy. \n",
        "score = model.evaluate(x_test, y_test, verbose=0)\n",
        "print('Test loss:', score[0])\n",
        "print('Test accuracy:', score[1])"
      ],
      "execution_count": 14,
      "outputs": [
        {
          "output_type": "stream",
          "text": [
            "Train on 60000 samples, validate on 10000 samples\n",
            "Epoch 1/12\n",
            "60000/60000 [==============================] - 66s 1ms/step - loss: 0.6242 - acc: 0.8178 - val_loss: 0.1906 - val_acc: 0.9446\n",
            "Epoch 2/12\n",
            "60000/60000 [==============================] - 65s 1ms/step - loss: 0.1615 - acc: 0.9521 - val_loss: 0.1253 - val_acc: 0.9643\n",
            "Epoch 3/12\n",
            "60000/60000 [==============================] - 66s 1ms/step - loss: 0.1115 - acc: 0.9671 - val_loss: 0.0948 - val_acc: 0.9727\n",
            "Epoch 4/12\n",
            "60000/60000 [==============================] - 65s 1ms/step - loss: 0.0875 - acc: 0.9734 - val_loss: 0.0719 - val_acc: 0.9778\n",
            "Epoch 5/12\n",
            "60000/60000 [==============================] - 65s 1ms/step - loss: 0.0741 - acc: 0.9773 - val_loss: 0.0620 - val_acc: 0.9814\n",
            "Epoch 6/12\n",
            "60000/60000 [==============================] - 64s 1ms/step - loss: 0.0640 - acc: 0.9809 - val_loss: 0.0574 - val_acc: 0.9825\n",
            "Epoch 7/12\n",
            "60000/60000 [==============================] - 62s 1ms/step - loss: 0.0582 - acc: 0.9823 - val_loss: 0.0498 - val_acc: 0.9846\n",
            "Epoch 8/12\n",
            "60000/60000 [==============================] - 64s 1ms/step - loss: 0.0523 - acc: 0.9843 - val_loss: 0.0489 - val_acc: 0.9850\n",
            "Epoch 9/12\n",
            "60000/60000 [==============================] - 63s 1ms/step - loss: 0.0480 - acc: 0.9854 - val_loss: 0.0439 - val_acc: 0.9866\n",
            "Epoch 10/12\n",
            "60000/60000 [==============================] - 63s 1ms/step - loss: 0.0445 - acc: 0.9863 - val_loss: 0.0444 - val_acc: 0.9862\n",
            "Epoch 11/12\n",
            "60000/60000 [==============================] - 63s 1ms/step - loss: 0.0410 - acc: 0.9878 - val_loss: 0.0432 - val_acc: 0.9867\n",
            "Epoch 12/12\n",
            "60000/60000 [==============================] - 63s 1ms/step - loss: 0.0381 - acc: 0.9885 - val_loss: 0.0400 - val_acc: 0.9869\n",
            "('Test loss:', 0.03999247591511812)\n",
            "('Test accuracy:', 0.9869)\n"
          ],
          "name": "stdout"
        }
      ]
    },
    {
      "cell_type": "code",
      "metadata": {
        "id": "KUigTH-vbCoT",
        "colab_type": "code",
        "outputId": "d33e9d2c-df24-49cd-e687-107bb9d790b8",
        "colab": {
          "base_uri": "https://localhost:8080/",
          "height": 68
        }
      },
      "source": [
        "# checks the shape of the test images\n",
        "print(x_test.shape)\n",
        "test_loss, test_acc = model.evaluate(x_test, y_test)\n",
        "\n",
        "# checks the accuracy of the CNN model. \n",
        "print('Test accuracy:', test_acc)\n"
      ],
      "execution_count": 16,
      "outputs": [
        {
          "output_type": "stream",
          "text": [
            "(10000, 28, 28, 1)\n",
            "10000/10000 [==============================] - 3s 347us/step\n",
            "('Test accuracy:', 0.9869)\n"
          ],
          "name": "stdout"
        }
      ]
    },
    {
      "cell_type": "code",
      "metadata": {
        "id": "k7pXQttB1LlD",
        "colab_type": "code",
        "outputId": "78b2fd2b-1f45-4712-a978-8bb4d8a0dfae",
        "colab": {
          "base_uri": "https://localhost:8080/",
          "height": 238
        }
      },
      "source": [
        "# stores the values of the history in the pandas. \n",
        "hist = pd.DataFrame(history.history)\n",
        "\n",
        "# prints the accruacies and losses (errors) of train / test data\n",
        "# for each epoch. \n",
        "print(hist)\n"
      ],
      "execution_count": 17,
      "outputs": [
        {
          "output_type": "stream",
          "text": [
            "         acc      loss  val_acc  val_loss\n",
            "0   0.817833  0.624212   0.9446  0.190630\n",
            "1   0.952083  0.161495   0.9643  0.125345\n",
            "2   0.967133  0.111498   0.9727  0.094797\n",
            "3   0.973433  0.087512   0.9778  0.071950\n",
            "4   0.977333  0.074111   0.9814  0.062038\n",
            "5   0.980917  0.063988   0.9825  0.057442\n",
            "6   0.982267  0.058237   0.9846  0.049754\n",
            "7   0.984317  0.052300   0.9850  0.048920\n",
            "8   0.985450  0.047996   0.9866  0.043918\n",
            "9   0.986317  0.044483   0.9862  0.044371\n",
            "10  0.987767  0.040972   0.9867  0.043173\n",
            "11  0.988467  0.038087   0.9869  0.039992\n"
          ],
          "name": "stdout"
        }
      ]
    },
    {
      "cell_type": "code",
      "metadata": {
        "id": "2XZxyRQa1ebK",
        "colab_type": "code",
        "outputId": "8959120e-11f7-4c36-e5fd-70120b251b4e",
        "colab": {
          "base_uri": "https://localhost:8080/",
          "height": 312
        }
      },
      "source": [
        "# plots the model loss with \n",
        "fig = plt.figure()\n",
        "plt.subplot()\n",
        "plt.plot(history.history['loss'])\n",
        "plt.plot(history.history['val_loss'])\n",
        "plt.title('model loss with 40 and 80 feature maps and 3x3 kernel')\n",
        "plt.ylabel('loss')\n",
        "plt.xlabel('epoch')\n",
        "plt.legend(['train', 'test'], loc='upper right')"
      ],
      "execution_count": 18,
      "outputs": [
        {
          "output_type": "execute_result",
          "data": {
            "text/plain": [
              "<matplotlib.legend.Legend at 0x7f315229c690>"
            ]
          },
          "metadata": {
            "tags": []
          },
          "execution_count": 18
        },
        {
          "output_type": "display_data",
          "data": {
            "image/png": "[encoded data removed]",
            "text/plain": [
              "<Figure size 432x288 with 1 Axes>"
            ]
          },
          "metadata": {
            "tags": []
          }
        }
      ]
    },
    {
      "cell_type": "code",
      "metadata": {
        "id": "QDfRJhz12ddw",
        "colab_type": "code",
        "outputId": "23e2ed3f-51b7-447d-fb77-2e5be0d407fe",
        "colab": {
          "base_uri": "https://localhost:8080/",
          "height": 312
        }
      },
      "source": [
        "fig = plt.figure()\n",
        "plt.subplot()\n",
        "plt.plot(history.history['acc'])\n",
        "plt.plot(history.history['val_acc'])\n",
        "plt.title('model accuracy with 40 and 80 feature maps and 3x3 kernel')\n",
        "plt.ylabel('accuracy')\n",
        "plt.xlabel('epoch')\n",
        "plt.legend(['train', 'test'], loc='lower right')"
      ],
      "execution_count": 19,
      "outputs": [
        {
          "output_type": "execute_result",
          "data": {
            "text/plain": [
              "<matplotlib.legend.Legend at 0x7f315221b850>"
            ]
          },
          "metadata": {
            "tags": []
          },
          "execution_count": 19
        },
        {
          "output_type": "display_data",
          "data": {
            "image/png": "[encoded data removed]",
            "text/plain": [
              "<Figure size 432x288 with 1 Axes>"
            ]
          },
          "metadata": {
            "tags": []
          }
        }
      ]
    },
    {
      "cell_type": "code",
      "metadata": {
        "id": "HxV3ccfCAHm1",
        "colab_type": "code",
        "colab": {}
      },
      "source": [
        ""
      ],
      "execution_count": 0,
      "outputs": []
    }
  ]
}