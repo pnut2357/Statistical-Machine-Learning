{
  "nbformat": 4,
  "nbformat_minor": 0,
  "metadata": {
    "colab": {
      "name": "Jaehyuk_Choi_CNN_5x5kernel.ipynb",
      "provenance": [],
      "collapsed_sections": []
    },
    "kernelspec": {
      "name": "python2",
      "display_name": "Python 2"
    }
  },
  "cells": [
    {
      "cell_type": "code",
      "metadata": {
        "id": "dfr611vvDNrr",
        "colab_type": "code",
        "colab": {}
      },
      "source": [
        ""
      ],
      "execution_count": 0,
      "outputs": []
    },
    {
      "cell_type": "code",
      "metadata": {
        "id": "CFrnzTBEDaYF",
        "colab_type": "code",
        "colab": {}
      },
      "source": [
        "import numpy as np\n",
        "import pandas as pd\n",
        "import keras\n",
        "from keras.datasets import mnist\n",
        "from keras.models import Sequential\n",
        "from keras.layers import Dense, Dropout, Flatten\n",
        "from keras.layers import Conv2D, MaxPooling2D\n",
        "from keras import backend as K\n",
        "import matplotlib.pyplot as plt\n"
      ],
      "execution_count": 0,
      "outputs": []
    },
    {
      "cell_type": "code",
      "metadata": {
        "id": "fJg-EQGQDnSS",
        "colab_type": "code",
        "outputId": "9047661c-9c7e-43a3-f7bd-92ea13ba7c4a",
        "colab": {
          "base_uri": "https://localhost:8080/",
          "height": 68
        }
      },
      "source": [
        "batch_size = 128                      # The size of each batch is 128.\n",
        "num_classes = 10                      # The number of classes 10 as from 0 to 9.\n",
        "epochs = 12                           # 12 epochs are used for efficiency. \n",
        "\n",
        "# input image dimensions 28 x 28 pixel. \n",
        "img_rows, img_cols = 28, 28\n",
        "\n",
        "# the data, split between train and test sets.\n",
        "(x_train, y_train), (x_test, y_test) = mnist.load_data()\n",
        "\n",
        "if K.image_data_format() == 'channels_first':   # data reshaping at the first channel.\n",
        "    x_train = x_train.reshape(x_train.shape[0], 1, img_rows, img_cols)\n",
        "    x_test = x_test.reshape(x_test.shape[0], 1, img_rows, img_cols)\n",
        "    input_shape = (1, img_rows, img_cols)\n",
        "else:                                           # data reshaping at the other channels.\n",
        "    x_train = x_train.reshape(x_train.shape[0], img_rows, img_cols, 1)\n",
        "    x_test = x_test.reshape(x_test.shape[0], img_rows, img_cols, 1)\n",
        "    input_shape = (img_rows, img_cols, 1)\n",
        "# converts from integer to float.\n",
        "x_train = x_train.astype('float32')\n",
        "x_test = x_test.astype('float32')\n",
        "# normalizes the pixel values of a gray-scale image.\n",
        "x_train /= 255\n",
        "x_test /= 255\n",
        "# prints the number of train / test samples. \n",
        "print('x_train shape:', x_train.shape)\n",
        "print(x_train.shape[0], 'train samples')\n",
        "print(x_test.shape[0], 'test samples')\n"
      ],
      "execution_count": 49,
      "outputs": [
        {
          "output_type": "stream",
          "text": [
            "('x_train shape:', (60000, 28, 28, 1))\n",
            "(60000, 'train samples')\n",
            "(10000, 'test samples')\n"
          ],
          "name": "stdout"
        }
      ]
    },
    {
      "cell_type": "code",
      "metadata": {
        "id": "J37bgqG0Dx4Z",
        "colab_type": "code",
        "outputId": "d80b10a4-9150-4b7d-f75d-50e56b959300",
        "colab": {
          "base_uri": "https://localhost:8080/",
          "height": 165
        }
      },
      "source": [
        "# prints the samples of handwritten digit images. \n",
        "plt.figure(figsize=(10,2))\n",
        "for i in range(5):\n",
        "    plt.subplot(1,5,i+1)\n",
        "    plt.xticks([])\n",
        "    plt.yticks([])\n",
        "    plt.grid(False)\n",
        "    plt.imshow(x_train[i].reshape(28, 28), cmap=plt.cm.binary)\n",
        "    plt.xlabel(y_train[i])\n",
        "    "
      ],
      "execution_count": 50,
      "outputs": [
        {
          "output_type": "display_data",
          "data": {
            "image/png": "[encoded data removed]",
            "text/plain": [
              "<Figure size 720x144 with 5 Axes>"
            ]
          },
          "metadata": {
            "tags": []
          }
        }
      ]
    },
    {
      "cell_type": "code",
      "metadata": {
        "id": "PrG5ZG9oQL6H",
        "colab_type": "code",
        "outputId": "ea38736e-ade4-4518-906f-4f74dd4488d0",
        "colab": {
          "base_uri": "https://localhost:8080/",
          "height": 496
        }
      },
      "source": [
        "\n",
        "# converts class vectors to binary class matrices.\n",
        "y_train = keras.utils.to_categorical(y_train, num_classes)\n",
        "y_test = keras.utils.to_categorical(y_test, num_classes)\n",
        "\n",
        "model = Sequential()\n",
        "\n",
        "# 1st convolutional layer with 6 feature maps, 5 x 5 kernels, stride 1, and \n",
        "# activation function of ReLU. \n",
        "# NOTE: number of feature maps will provide number of features in higher dimensions. \n",
        "# like features of a sharp shape, a curve shape, or an edge shape in an image.\n",
        "model.add(Conv2D(6, kernel_size=(5, 5),\n",
        "                 activation='relu',\n",
        "                 input_shape=input_shape))\n",
        "\n",
        "# max pooling 2 x 2 with stride 1\n",
        "model.add(MaxPooling2D(pool_size=(2, 2)))\n",
        "\n",
        "# 2nd conv layer with 16 feature maps, 5 x 5 kernels, stride 1, and activation \n",
        "# function of ReLU.\n",
        "model.add(Conv2D(16, (5, 5), activation='relu'))\n",
        "\n",
        "# max pooling 2 x 2 with stride 1\n",
        "model.add(MaxPooling2D(pool_size=(2, 2)))\n",
        "\n",
        "# flattening is required to pass the feature maps through fully connected layers. \n",
        "model.add(Flatten())\n",
        "\n",
        "# fully connected layer with 120 nodes and ReLU activation function.\n",
        "model.add(Dense(120, activation='relu'))\n",
        "\n",
        "# fully connected layer with 84 nodes and ReLU activation function.\n",
        "model.add(Dense(84, activation='relu'))\n",
        "\n",
        "# Output layer with softmax activation function.\n",
        "model.add(Dense(num_classes, activation='softmax'))\n",
        "\n",
        "# https://keras.io/optimizers/ \n",
        "# Adadelta optimizer is more robust than Adagrad that adapts learning rates based \n",
        "# on a moving window of gradient updates, instead of accumulating all past gradients. \n",
        "model.compile(loss=keras.losses.categorical_crossentropy,\n",
        "              optimizer=keras.optimizers.Adadelta(lr=0.1, rho=0.95, epsilon=None, decay=0.0),\n",
        "              metrics=['accuracy'])\n",
        "\n",
        "# trains training data and stores the values of the accruacies and losses (errors) \n",
        "# of train / test data for each epoch. \n",
        "history = model.fit(x_train, y_train,\n",
        "          batch_size=batch_size,\n",
        "          epochs=epochs,\n",
        "          verbose=1,\n",
        "          validation_data=(x_test, y_test))\n",
        "\n",
        "# calculates the final loss and the final accuracy. \n",
        "score = model.evaluate(x_test, y_test, verbose=0)\n",
        "print('Test loss:', score[0])\n",
        "print('Test accuracy:', score[1])"
      ],
      "execution_count": 51,
      "outputs": [
        {
          "output_type": "stream",
          "text": [
            "Train on 60000 samples, validate on 10000 samples\n",
            "Epoch 1/12\n",
            "60000/60000 [==============================] - 27s 447us/step - loss: 0.8003 - acc: 0.7629 - val_loss: 0.2515 - val_acc: 0.9228\n",
            "Epoch 2/12\n",
            "60000/60000 [==============================] - 26s 433us/step - loss: 0.2286 - acc: 0.9309 - val_loss: 0.1836 - val_acc: 0.9436\n",
            "Epoch 3/12\n",
            "60000/60000 [==============================] - 25s 411us/step - loss: 0.1764 - acc: 0.9468 - val_loss: 0.1438 - val_acc: 0.9555\n",
            "Epoch 4/12\n",
            "60000/60000 [==============================] - 23s 390us/step - loss: 0.1467 - acc: 0.9557 - val_loss: 0.1199 - val_acc: 0.9631\n",
            "Epoch 5/12\n",
            "60000/60000 [==============================] - 23s 388us/step - loss: 0.1262 - acc: 0.9620 - val_loss: 0.1086 - val_acc: 0.9662\n",
            "Epoch 6/12\n",
            "60000/60000 [==============================] - 24s 400us/step - loss: 0.1118 - acc: 0.9666 - val_loss: 0.0954 - val_acc: 0.9691\n",
            "Epoch 7/12\n",
            "60000/60000 [==============================] - 23s 390us/step - loss: 0.1016 - acc: 0.9688 - val_loss: 0.0847 - val_acc: 0.9736\n",
            "Epoch 8/12\n",
            "60000/60000 [==============================] - 23s 389us/step - loss: 0.0938 - acc: 0.9713 - val_loss: 0.0841 - val_acc: 0.9737\n",
            "Epoch 9/12\n",
            "60000/60000 [==============================] - 24s 397us/step - loss: 0.0870 - acc: 0.9738 - val_loss: 0.0773 - val_acc: 0.9765\n",
            "Epoch 10/12\n",
            "60000/60000 [==============================] - 24s 399us/step - loss: 0.0815 - acc: 0.9753 - val_loss: 0.0719 - val_acc: 0.9788\n",
            "Epoch 11/12\n",
            "60000/60000 [==============================] - 24s 395us/step - loss: 0.0772 - acc: 0.9765 - val_loss: 0.0641 - val_acc: 0.9784\n",
            "Epoch 12/12\n",
            "60000/60000 [==============================] - 24s 392us/step - loss: 0.0729 - acc: 0.9776 - val_loss: 0.0688 - val_acc: 0.9779\n",
            "('Test loss:', 0.06882888203910552)\n",
            "('Test accuracy:', 0.9779)\n"
          ],
          "name": "stdout"
        }
      ]
    },
    {
      "cell_type": "code",
      "metadata": {
        "id": "KUigTH-vbCoT",
        "colab_type": "code",
        "outputId": "b36dd711-d6bf-4013-9d34-3105394dc7de",
        "colab": {
          "base_uri": "https://localhost:8080/",
          "height": 68
        }
      },
      "source": [
        "# checks the shape of the test images\n",
        "print(x_test.shape)\n",
        "test_loss, test_acc = model.evaluate(x_test, y_test)\n",
        "\n",
        "# checks the accuracy of the CNN model. \n",
        "print('Test accuracy:', test_acc)\n"
      ],
      "execution_count": 44,
      "outputs": [
        {
          "output_type": "stream",
          "text": [
            "(10000, 28, 28, 1)\n",
            "10000/10000 [==============================] - 2s 189us/step\n",
            "('Test accuracy:', 0.9787)\n"
          ],
          "name": "stdout"
        }
      ]
    },
    {
      "cell_type": "code",
      "metadata": {
        "id": "k7pXQttB1LlD",
        "colab_type": "code",
        "outputId": "cc833845-0212-438e-bbe7-c7a513ffc620",
        "colab": {
          "base_uri": "https://localhost:8080/",
          "height": 238
        }
      },
      "source": [
        "# stores the values of the history in the pandas. \n",
        "hist = pd.DataFrame(history.history)\n",
        "\n",
        "# prints the accruacies and losses (errors) of train / test data\n",
        "# for each epoch. \n",
        "print(hist)\n"
      ],
      "execution_count": 45,
      "outputs": [
        {
          "output_type": "stream",
          "text": [
            "         acc      loss  val_acc  val_loss\n",
            "0   0.767100  0.843230   0.9230  0.256907\n",
            "1   0.936900  0.215411   0.9470  0.169198\n",
            "2   0.952100  0.161992   0.9602  0.133659\n",
            "3   0.960417  0.134240   0.9623  0.122006\n",
            "4   0.965833  0.116679   0.9692  0.100266\n",
            "5   0.969233  0.103862   0.9713  0.091707\n",
            "6   0.972083  0.094738   0.9731  0.087405\n",
            "7   0.973717  0.087272   0.9758  0.079270\n",
            "8   0.975667  0.081559   0.9756  0.074905\n",
            "9   0.977333  0.076437   0.9791  0.069142\n",
            "10  0.978017  0.072406   0.9791  0.063469\n",
            "11  0.979650  0.068337   0.9787  0.065233\n"
          ],
          "name": "stdout"
        }
      ]
    },
    {
      "cell_type": "code",
      "metadata": {
        "id": "2XZxyRQa1ebK",
        "colab_type": "code",
        "outputId": "8532fb18-a4a4-43de-f208-3dc2472a3c1d",
        "colab": {
          "base_uri": "https://localhost:8080/",
          "height": 295
        }
      },
      "source": [
        "# plots the model loss with \n",
        "fig = plt.figure()\n",
        "plt.subplot()\n",
        "plt.plot(history.history['loss'])\n",
        "plt.plot(history.history['val_loss'])\n",
        "plt.title('model loss with 6 and 16 feature maps and 5x5 kernel')\n",
        "plt.ylabel('loss')\n",
        "plt.xlabel('epoch')\n",
        "plt.legend(['train', 'test'], loc='upper right')\n",
        "plt.show()"
      ],
      "execution_count": 52,
      "outputs": [
        {
          "output_type": "display_data",
          "data": {
            "image/png": "[encoded data removed]",
            "text/plain": [
              "<Figure size 432x288 with 1 Axes>"
            ]
          },
          "metadata": {
            "tags": []
          }
        }
      ]
    },
    {
      "cell_type": "code",
      "metadata": {
        "id": "QDfRJhz12ddw",
        "colab_type": "code",
        "outputId": "e0af1b2f-b603-4512-8426-bb477bbc8e2b",
        "colab": {
          "base_uri": "https://localhost:8080/",
          "height": 295
        }
      },
      "source": [
        "fig = plt.figure()\n",
        "plt.subplot()\n",
        "plt.plot(history.history['acc'])\n",
        "plt.plot(history.history['val_acc'])\n",
        "plt.title('model accuracy with 6 and 16 feature maps and 5x5 kernel')\n",
        "plt.ylabel('accuracy')\n",
        "plt.xlabel('epoch')\n",
        "plt.legend(['train', 'test'], loc='lower right')\n",
        "plt.show()"
      ],
      "execution_count": 53,
      "outputs": [
        {
          "output_type": "display_data",
          "data": {
            "image/png": "[encoded data removed]",
            "text/plain": [
              "<Figure size 432x288 with 1 Axes>"
            ]
          },
          "metadata": {
            "tags": []
          }
        }
      ]
    },
    {
      "cell_type": "code",
      "metadata": {
        "id": "HxV3ccfCAHm1",
        "colab_type": "code",
        "colab": {}
      },
      "source": [
        ""
      ],
      "execution_count": 0,
      "outputs": []
    }
  ]
}