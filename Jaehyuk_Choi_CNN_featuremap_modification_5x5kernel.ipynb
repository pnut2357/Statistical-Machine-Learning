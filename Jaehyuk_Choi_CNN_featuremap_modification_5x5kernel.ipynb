{
  "nbformat": 4,
  "nbformat_minor": 0,
  "metadata": {
    "colab": {
      "name": "Jaehyuk_Choi_CNN_featuremap_modification_5x5kernel.ipynb",
      "provenance": [],
      "collapsed_sections": []
    },
    "kernelspec": {
      "name": "python2",
      "display_name": "Python 2"
    }
  },
  "cells": [
    {
      "cell_type": "code",
      "metadata": {
        "id": "dfr611vvDNrr",
        "colab_type": "code",
        "colab": {}
      },
      "source": [
        ""
      ],
      "execution_count": 0,
      "outputs": []
    },
    {
      "cell_type": "code",
      "metadata": {
        "id": "CFrnzTBEDaYF",
        "colab_type": "code",
        "colab": {}
      },
      "source": [
        "import numpy as np\n",
        "import pandas as pd\n",
        "import keras\n",
        "from keras.datasets import mnist\n",
        "from keras.models import Sequential\n",
        "from keras.layers import Dense, Dropout, Flatten\n",
        "from keras.layers import Conv2D, MaxPooling2D\n",
        "from keras import backend as K\n",
        "import matplotlib.pyplot as plt\n"
      ],
      "execution_count": 0,
      "outputs": []
    },
    {
      "cell_type": "code",
      "metadata": {
        "id": "fJg-EQGQDnSS",
        "colab_type": "code",
        "outputId": "a2bb4182-a37d-4dde-da42-03f6733906ea",
        "colab": {
          "base_uri": "https://localhost:8080/",
          "height": 68
        }
      },
      "source": [
        "batch_size = 128                      # The size of each batch is 128.\n",
        "num_classes = 10                      # The number of classes 10 as from 0 to 9.\n",
        "epochs = 12                           # 12 epochs are used for efficiency. \n",
        "\n",
        "# input image dimensions 28 x 28 pixel. \n",
        "img_rows, img_cols = 28, 28\n",
        "\n",
        "# the data, split between train and test sets.\n",
        "(x_train, y_train), (x_test, y_test) = mnist.load_data()\n",
        "\n",
        "if K.image_data_format() == 'channels_first':   # data reshaping at the first channel.\n",
        "    x_train = x_train.reshape(x_train.shape[0], 1, img_rows, img_cols)\n",
        "    x_test = x_test.reshape(x_test.shape[0], 1, img_rows, img_cols)\n",
        "    input_shape = (1, img_rows, img_cols)\n",
        "else:                                           # data reshaping at the other channels.\n",
        "    x_train = x_train.reshape(x_train.shape[0], img_rows, img_cols, 1)\n",
        "    x_test = x_test.reshape(x_test.shape[0], img_rows, img_cols, 1)\n",
        "    input_shape = (img_rows, img_cols, 1)\n",
        "# converts from integer to float.\n",
        "x_train = x_train.astype('float32')\n",
        "x_test = x_test.astype('float32')\n",
        "# normalizes the pixel values of a gray-scale image.\n",
        "x_train /= 255\n",
        "x_test /= 255\n",
        "# prints the number of train / test samples. \n",
        "print('x_train shape:', x_train.shape)\n",
        "print(x_train.shape[0], 'train samples')\n",
        "print(x_test.shape[0], 'test samples')\n"
      ],
      "execution_count": 23,
      "outputs": [
        {
          "output_type": "stream",
          "text": [
            "('x_train shape:', (60000, 28, 28, 1))\n",
            "(60000, 'train samples')\n",
            "(10000, 'test samples')\n"
          ],
          "name": "stdout"
        }
      ]
    },
    {
      "cell_type": "code",
      "metadata": {
        "id": "J37bgqG0Dx4Z",
        "colab_type": "code",
        "outputId": "83f05d4f-fd35-4012-a43d-c91d1e5e1e6b",
        "colab": {
          "base_uri": "https://localhost:8080/",
          "height": 165
        }
      },
      "source": [
        "# prints the samples of handwritten digit images. \n",
        "plt.figure(figsize=(10,2))\n",
        "for i in range(5):\n",
        "    plt.subplot(1,5,i+1)\n",
        "    plt.xticks([])\n",
        "    plt.yticks([])\n",
        "    plt.grid(False)\n",
        "    plt.imshow(x_train[i].reshape(28, 28), cmap=plt.cm.binary)\n",
        "    plt.xlabel(y_train[i])\n",
        "    "
      ],
      "execution_count": 24,
      "outputs": [
        {
          "output_type": "display_data",
          "data": {
            "image/png": "[encoded data removed]",
            "text/plain": [
              "<Figure size 720x144 with 5 Axes>"
            ]
          },
          "metadata": {
            "tags": []
          }
        }
      ]
    },
    {
      "cell_type": "code",
      "metadata": {
        "id": "PrG5ZG9oQL6H",
        "colab_type": "code",
        "outputId": "dfd22462-e523-4861-b460-c928e7a6218d",
        "colab": {
          "base_uri": "https://localhost:8080/",
          "height": 496
        }
      },
      "source": [
        "\n",
        "# converts class vectors to binary class matrices.\n",
        "y_train = keras.utils.to_categorical(y_train, num_classes)\n",
        "y_test = keras.utils.to_categorical(y_test, num_classes)\n",
        "\n",
        "model = Sequential()\n",
        "\n",
        "# 1st convolutional layer with 40 feature maps, 5 x 5 kernels, stride 1, and \n",
        "# activation function of ReLU. \n",
        "# NOTE: number of feature maps will provide number of features in higher dimensions. \n",
        "# like features of a sharp shape, a curve shape, or an edge shape in an image.\n",
        "model.add(Conv2D(40, kernel_size=(5, 5),\n",
        "                 activation='relu',\n",
        "                 input_shape=input_shape))\n",
        "\n",
        "# max pooling 2 x 2 with stride 1\n",
        "model.add(MaxPooling2D(pool_size=(2, 2)))\n",
        "\n",
        "# 2nd conv layer with 80 feature maps, 5 x 5 kernels, stride 1, and activation \n",
        "# function of ReLU.\n",
        "model.add(Conv2D(80, (5, 5), activation='relu'))\n",
        "\n",
        "# max pooling 2 x 2 with stride 1\n",
        "model.add(MaxPooling2D(pool_size=(2, 2)))\n",
        "\n",
        "# flattening is required to pass the feature maps through fully connected layers. \n",
        "model.add(Flatten())\n",
        "\n",
        "# fully connected layer with 120 nodes and ReLU activation function.\n",
        "model.add(Dense(120, activation='relu'))\n",
        "\n",
        "# fully connected layer with 84 nodes and ReLU activation function.\n",
        "model.add(Dense(84, activation='relu'))\n",
        "\n",
        "# Output layer with softmax activation function.\n",
        "model.add(Dense(num_classes, activation='softmax'))\n",
        "\n",
        "# https://keras.io/optimizers/ \n",
        "# Adadelta optimizer is more robust than Adagrad that adapts learning rates based \n",
        "# on a moving window of gradient updates, instead of accumulating all past gradients. \n",
        "model.compile(loss=keras.losses.categorical_crossentropy,\n",
        "              optimizer=keras.optimizers.Adadelta(lr=0.1, rho=0.95, epsilon=None, decay=0.0),\n",
        "              metrics=['accuracy'])\n",
        "\n",
        "# trains training data and stores the values of the accruacies and losses (errors) \n",
        "# of train / test data for each epoch. \n",
        "history = model.fit(x_train, y_train,\n",
        "          batch_size=batch_size,\n",
        "          epochs=epochs,\n",
        "          verbose=1,\n",
        "          validation_data=(x_test, y_test))\n",
        "\n",
        "# calculates the final loss and the final accuracy. \n",
        "score = model.evaluate(x_test, y_test, verbose=0)\n",
        "print('Test loss:', score[0])\n",
        "print('Test accuracy:', score[1])"
      ],
      "execution_count": 25,
      "outputs": [
        {
          "output_type": "stream",
          "text": [
            "Train on 60000 samples, validate on 10000 samples\n",
            "Epoch 1/12\n",
            "60000/60000 [==============================] - 99s 2ms/step - loss: 0.5172 - acc: 0.8482 - val_loss: 0.1545 - val_acc: 0.9550\n",
            "Epoch 2/12\n",
            "60000/60000 [==============================] - 99s 2ms/step - loss: 0.1324 - acc: 0.9607 - val_loss: 0.0958 - val_acc: 0.9707\n",
            "Epoch 3/12\n",
            "60000/60000 [==============================] - 98s 2ms/step - loss: 0.0919 - acc: 0.9722 - val_loss: 0.0674 - val_acc: 0.9802\n",
            "Epoch 4/12\n",
            "60000/60000 [==============================] - 99s 2ms/step - loss: 0.0731 - acc: 0.9781 - val_loss: 0.0571 - val_acc: 0.9823\n",
            "Epoch 5/12\n",
            "60000/60000 [==============================] - 100s 2ms/step - loss: 0.0619 - acc: 0.9812 - val_loss: 0.0483 - val_acc: 0.9849\n",
            "Epoch 6/12\n",
            "60000/60000 [==============================] - 99s 2ms/step - loss: 0.0537 - acc: 0.9837 - val_loss: 0.0479 - val_acc: 0.9838\n",
            "Epoch 7/12\n",
            "60000/60000 [==============================] - 98s 2ms/step - loss: 0.0477 - acc: 0.9857 - val_loss: 0.0414 - val_acc: 0.9865\n",
            "Epoch 8/12\n",
            "60000/60000 [==============================] - 97s 2ms/step - loss: 0.0427 - acc: 0.9873 - val_loss: 0.0389 - val_acc: 0.9865\n",
            "Epoch 9/12\n",
            "60000/60000 [==============================] - 98s 2ms/step - loss: 0.0393 - acc: 0.9884 - val_loss: 0.0370 - val_acc: 0.9875\n",
            "Epoch 10/12\n",
            "60000/60000 [==============================] - 98s 2ms/step - loss: 0.0359 - acc: 0.9891 - val_loss: 0.0410 - val_acc: 0.9852\n",
            "Epoch 11/12\n",
            "60000/60000 [==============================] - 97s 2ms/step - loss: 0.0331 - acc: 0.9899 - val_loss: 0.0388 - val_acc: 0.9872\n",
            "Epoch 12/12\n",
            "60000/60000 [==============================] - 98s 2ms/step - loss: 0.0308 - acc: 0.9906 - val_loss: 0.0309 - val_acc: 0.9903\n",
            "('Test loss:', 0.030915480754571036)\n",
            "('Test accuracy:', 0.9903)\n"
          ],
          "name": "stdout"
        }
      ]
    },
    {
      "cell_type": "code",
      "metadata": {
        "id": "KUigTH-vbCoT",
        "colab_type": "code",
        "outputId": "03ad5e34-22f5-427e-ec88-18986b074b57",
        "colab": {
          "base_uri": "https://localhost:8080/",
          "height": 68
        }
      },
      "source": [
        "# checks the shape of the test images\n",
        "print(x_test.shape)\n",
        "test_loss, test_acc = model.evaluate(x_test, y_test)\n",
        "\n",
        "# checks the accuracy of the CNN model. \n",
        "print('Test accuracy:', test_acc)\n"
      ],
      "execution_count": 26,
      "outputs": [
        {
          "output_type": "stream",
          "text": [
            "(10000, 28, 28, 1)\n",
            "10000/10000 [==============================] - 4s 399us/step\n",
            "('Test accuracy:', 0.9903)\n"
          ],
          "name": "stdout"
        }
      ]
    },
    {
      "cell_type": "code",
      "metadata": {
        "id": "k7pXQttB1LlD",
        "colab_type": "code",
        "outputId": "cae639b1-5603-48c7-ae6c-b7753c34dc66",
        "colab": {
          "base_uri": "https://localhost:8080/",
          "height": 238
        }
      },
      "source": [
        "# stores the values of the history in the pandas. \n",
        "hist = pd.DataFrame(history.history)\n",
        "\n",
        "# prints the accruacies and losses (errors) of train / test data\n",
        "# for each epoch. \n",
        "print(hist)\n"
      ],
      "execution_count": 28,
      "outputs": [
        {
          "output_type": "stream",
          "text": [
            "         acc      loss  val_acc  val_loss\n",
            "0   0.848233  0.517202   0.9550  0.154510\n",
            "1   0.960683  0.132443   0.9707  0.095807\n",
            "2   0.972233  0.091912   0.9802  0.067418\n",
            "3   0.978100  0.073052   0.9823  0.057139\n",
            "4   0.981250  0.061888   0.9849  0.048342\n",
            "5   0.983700  0.053664   0.9838  0.047904\n",
            "6   0.985700  0.047680   0.9865  0.041444\n",
            "7   0.987317  0.042668   0.9865  0.038885\n",
            "8   0.988417  0.039314   0.9875  0.036950\n",
            "9   0.989083  0.035884   0.9852  0.041045\n",
            "10  0.989900  0.033070   0.9872  0.038815\n",
            "11  0.990550  0.030771   0.9903  0.030915\n"
          ],
          "name": "stdout"
        }
      ]
    },
    {
      "cell_type": "code",
      "metadata": {
        "id": "2XZxyRQa1ebK",
        "colab_type": "code",
        "outputId": "35dc6355-8b8e-4624-d7e3-2647c5afb8a7",
        "colab": {
          "base_uri": "https://localhost:8080/",
          "height": 295
        }
      },
      "source": [
        "# plots the model loss with \n",
        "fig = plt.figure()\n",
        "plt.subplot()\n",
        "plt.plot(history.history['loss'])\n",
        "plt.plot(history.history['val_loss'])\n",
        "plt.title('model loss with 40 and 80 feature maps and 5x5 kernel')\n",
        "plt.ylabel('loss')\n",
        "plt.xlabel('epoch')\n",
        "plt.legend(['train', 'test'], loc='upper right')\n",
        "plt.show()"
      ],
      "execution_count": 29,
      "outputs": [
        {
          "output_type": "display_data",
          "data": {
            "image/png": "[encoded data removed]",
            "text/plain": [
              "<Figure size 432x288 with 1 Axes>"
            ]
          },
          "metadata": {
            "tags": []
          }
        }
      ]
    },
    {
      "cell_type": "code",
      "metadata": {
        "id": "QDfRJhz12ddw",
        "colab_type": "code",
        "outputId": "3a3957ed-33aa-432c-8946-958b9ad2317d",
        "colab": {
          "base_uri": "https://localhost:8080/",
          "height": 295
        }
      },
      "source": [
        "fig = plt.figure()\n",
        "plt.subplot()\n",
        "plt.plot(history.history['acc'])\n",
        "plt.plot(history.history['val_acc'])\n",
        "plt.title('model accuracy with 40 and 80 feature maps and 5x5 kernel')\n",
        "plt.ylabel('accuracy')\n",
        "plt.xlabel('epoch')\n",
        "plt.legend(['train', 'test'], loc='lower right')\n",
        "plt.show()"
      ],
      "execution_count": 30,
      "outputs": [
        {
          "output_type": "display_data",
          "data": {
            "image/png": "[encoded data removed]",
            "text/plain": [
              "<Figure size 432x288 with 1 Axes>"
            ]
          },
          "metadata": {
            "tags": []
          }
        }
      ]
    },
    {
      "cell_type": "code",
      "metadata": {
        "id": "HxV3ccfCAHm1",
        "colab_type": "code",
        "colab": {}
      },
      "source": [
        ""
      ],
      "execution_count": 0,
      "outputs": []
    }
  ]
}